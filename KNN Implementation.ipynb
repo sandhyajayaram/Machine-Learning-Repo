{
 "cells": [
  {
   "cell_type": "code",
   "execution_count": 1,
   "metadata": {},
   "outputs": [
    {
     "data": {
      "text/html": [
       "<div>\n",
       "<style scoped>\n",
       "    .dataframe tbody tr th:only-of-type {\n",
       "        vertical-align: middle;\n",
       "    }\n",
       "\n",
       "    .dataframe tbody tr th {\n",
       "        vertical-align: top;\n",
       "    }\n",
       "\n",
       "    .dataframe thead th {\n",
       "        text-align: right;\n",
       "    }\n",
       "</style>\n",
       "<table border=\"1\" class=\"dataframe\">\n",
       "  <thead>\n",
       "    <tr style=\"text-align: right;\">\n",
       "      <th></th>\n",
       "      <th>Sepal length</th>\n",
       "      <th>Sepal width</th>\n",
       "      <th>Petal length</th>\n",
       "      <th>Petal width</th>\n",
       "      <th>Species</th>\n",
       "    </tr>\n",
       "  </thead>\n",
       "  <tbody>\n",
       "    <tr>\n",
       "      <th>0</th>\n",
       "      <td>4.5</td>\n",
       "      <td>2.3</td>\n",
       "      <td>1.3</td>\n",
       "      <td>0.3</td>\n",
       "      <td>setosa</td>\n",
       "    </tr>\n",
       "    <tr>\n",
       "      <th>1</th>\n",
       "      <td>5.7</td>\n",
       "      <td>4.4</td>\n",
       "      <td>1.5</td>\n",
       "      <td>0.4</td>\n",
       "      <td>setosa</td>\n",
       "    </tr>\n",
       "    <tr>\n",
       "      <th>2</th>\n",
       "      <td>7.9</td>\n",
       "      <td>3.8</td>\n",
       "      <td>6.4</td>\n",
       "      <td>2.0</td>\n",
       "      <td>virginica</td>\n",
       "    </tr>\n",
       "    <tr>\n",
       "      <th>3</th>\n",
       "      <td>7.7</td>\n",
       "      <td>3.8</td>\n",
       "      <td>6.7</td>\n",
       "      <td>2.2</td>\n",
       "      <td>virginica</td>\n",
       "    </tr>\n",
       "    <tr>\n",
       "      <th>4</th>\n",
       "      <td>7.7</td>\n",
       "      <td>2.6</td>\n",
       "      <td>6.9</td>\n",
       "      <td>2.3</td>\n",
       "      <td>virginica</td>\n",
       "    </tr>\n",
       "  </tbody>\n",
       "</table>\n",
       "</div>"
      ],
      "text/plain": [
       "   Sepal length  Sepal width  Petal length  Petal width    Species\n",
       "0           4.5          2.3           1.3          0.3     setosa\n",
       "1           5.7          4.4           1.5          0.4     setosa\n",
       "2           7.9          3.8           6.4          2.0  virginica\n",
       "3           7.7          3.8           6.7          2.2  virginica\n",
       "4           7.7          2.6           6.9          2.3  virginica"
      ]
     },
     "execution_count": 1,
     "metadata": {},
     "output_type": "execute_result"
    }
   ],
   "source": [
    "import numpy as np\n",
    "import pandas as pd\n",
    "import math\n",
    "from sklearn.model_selection import train_test_split\n",
    "import sklearn.neighbors\n",
    "from sklearn.neighbors import KNeighborsClassifier\n",
    "from sklearn.neighbors import KNeighborsRegressor\n",
    "from sklearn import metrics\n",
    "from sklearn.preprocessing import scale\n",
    "from collections import Counter\n",
    "# Import dataset\n",
    "df=pd.read_csv('C:/Users/Blank Panther/Downloads/iris (1).csv')\n",
    "df.head()"
   ]
  },
  {
   "cell_type": "code",
   "execution_count": 2,
   "metadata": {},
   "outputs": [
    {
     "data": {
      "text/plain": [
       "(150, 5)"
      ]
     },
     "execution_count": 2,
     "metadata": {},
     "output_type": "execute_result"
    }
   ],
   "source": [
    "df.shape"
   ]
  },
  {
   "cell_type": "code",
   "execution_count": 3,
   "metadata": {},
   "outputs": [
    {
     "name": "stdout",
     "output_type": "stream",
     "text": [
      "X      Sepal length  Sepal width  Petal length  Petal width\n",
      "0             4.5          2.3           1.3          0.3\n",
      "1             5.7          4.4           1.5          0.4\n",
      "2             7.9          3.8           6.4          2.0\n",
      "3             7.7          3.8           6.7          2.2\n",
      "4             7.7          2.6           6.9          2.3\n",
      "5             5.5          4.2           1.4          0.2\n",
      "6             5.0          2.0           3.5          1.0\n",
      "7             7.2          3.6           6.1          2.5\n",
      "8             5.8          4.0           1.2          0.2\n",
      "9             7.7          2.8           6.7          2.0\n",
      "10            5.2          4.1           1.5          0.1\n",
      "11            4.4          2.9           1.4          0.2\n",
      "12            5.8          2.8           5.1          2.4\n",
      "13            4.3          3.0           1.1          0.1\n",
      "14            7.7          3.0           6.1          2.3\n",
      "15            6.0          3.4           4.5          1.6\n",
      "16            5.0          2.3           3.3          1.0\n",
      "17            6.7          2.5           5.8          1.8\n",
      "18            7.6          3.0           6.6          2.1\n",
      "19            4.9          2.4           3.3          1.0\n",
      "20            4.4          3.0           1.3          0.2\n",
      "21            6.2          2.2           4.5          1.5\n",
      "22            6.0          2.2           5.0          1.5\n",
      "23            6.3          2.5           5.0          1.9\n",
      "24            5.7          3.8           1.7          0.3\n",
      "25            5.4          3.9           1.7          0.4\n",
      "26            6.0          2.2           4.0          1.0\n",
      "27            5.4          3.9           1.3          0.4\n",
      "28            4.9          2.5           4.5          1.7\n",
      "29            7.4          2.8           6.1          1.9\n",
      "..            ...          ...           ...          ...\n",
      "120           5.6          2.5           3.9          1.1\n",
      "121           5.0          3.5           1.6          0.6\n",
      "122           5.8          2.7           4.1          1.0\n",
      "123           6.5          3.2           5.1          2.0\n",
      "124           4.9          3.6           1.4          0.1\n",
      "125           5.5          2.5           4.0          1.3\n",
      "126           6.7          3.0           5.0          1.7\n",
      "127           5.7          2.8           4.5          1.3\n",
      "128           6.4          3.1           5.5          1.8\n",
      "129           5.7          2.8           4.1          1.3\n",
      "130           4.8          3.4           1.9          0.2\n",
      "131           5.0          3.3           1.4          0.2\n",
      "132           5.0          3.6           1.4          0.2\n",
      "133           6.9          3.1           5.4          2.1\n",
      "134           6.5          3.0           5.5          1.8\n",
      "135           5.5          2.6           4.4          1.2\n",
      "136           5.8          2.7           3.9          1.2\n",
      "137           6.5          3.0           5.2          2.0\n",
      "138           4.8          3.4           1.6          0.2\n",
      "139           6.8          3.0           5.5          2.1\n",
      "140           5.2          3.4           1.4          0.2\n",
      "141           5.2          3.5           1.5          0.2\n",
      "142           5.8          2.6           4.0          1.2\n",
      "143           5.0          3.4           1.6          0.4\n",
      "144           5.6          2.7           4.2          1.3\n",
      "145           5.1          3.5           1.4          0.3\n",
      "146           5.1          3.4           1.5          0.2\n",
      "147           5.1          3.5           1.4          0.2\n",
      "148           5.0          3.5           1.3          0.3\n",
      "149           5.0          3.4           1.5          0.2\n",
      "\n",
      "[150 rows x 4 columns]\n",
      "Y 0          setosa\n",
      "1          setosa\n",
      "2       virginica\n",
      "3       virginica\n",
      "4       virginica\n",
      "5          setosa\n",
      "6      versicolor\n",
      "7       virginica\n",
      "8          setosa\n",
      "9       virginica\n",
      "10         setosa\n",
      "11         setosa\n",
      "12      virginica\n",
      "13         setosa\n",
      "14      virginica\n",
      "15     versicolor\n",
      "16     versicolor\n",
      "17      virginica\n",
      "18      virginica\n",
      "19     versicolor\n",
      "20         setosa\n",
      "21     versicolor\n",
      "22      virginica\n",
      "23      virginica\n",
      "24         setosa\n",
      "25         setosa\n",
      "26     versicolor\n",
      "27         setosa\n",
      "28      virginica\n",
      "29      virginica\n",
      "          ...    \n",
      "120    versicolor\n",
      "121        setosa\n",
      "122    versicolor\n",
      "123     virginica\n",
      "124        setosa\n",
      "125    versicolor\n",
      "126    versicolor\n",
      "127    versicolor\n",
      "128     virginica\n",
      "129    versicolor\n",
      "130        setosa\n",
      "131        setosa\n",
      "132        setosa\n",
      "133     virginica\n",
      "134     virginica\n",
      "135    versicolor\n",
      "136    versicolor\n",
      "137     virginica\n",
      "138        setosa\n",
      "139     virginica\n",
      "140        setosa\n",
      "141        setosa\n",
      "142    versicolor\n",
      "143        setosa\n",
      "144    versicolor\n",
      "145        setosa\n",
      "146        setosa\n",
      "147        setosa\n",
      "148        setosa\n",
      "149        setosa\n",
      "Name: Species, Length: 150, dtype: object\n"
     ]
    }
   ],
   "source": [
    "# Splitting data into 70:30 train:test ratio\n",
    "df_X=df.iloc[:,:4]\n",
    "df_Y=df.iloc[:,4]\n",
    "print('X', df_X)\n",
    "print('Y',df_Y)\n",
    "X_train,X_test,Y_train,Y_test=train_test_split(df_X,df_Y,test_size=0.3,random_state=33)"
   ]
  },
  {
   "cell_type": "code",
   "execution_count": 4,
   "metadata": {},
   "outputs": [],
   "source": [
    "# Changing the index of the records to sequential"
   ]
  },
  {
   "cell_type": "code",
   "execution_count": 5,
   "metadata": {},
   "outputs": [
    {
     "name": "stdout",
     "output_type": "stream",
     "text": [
      "X_train.index RangeIndex(start=0, stop=105, step=1)\n",
      "Y_train.index RangeIndex(start=0, stop=105, step=1)\n",
      "X_test.index RangeIndex(start=0, stop=45, step=1)\n",
      "Y_test.index RangeIndex(start=0, stop=45, step=1)\n"
     ]
    }
   ],
   "source": [
    "X_train.index=range(len(X_train))\n",
    "Y_train.index=range(len(X_train))\n",
    "X_test.index=range(len(X_test))\n",
    "Y_test.index=range(len(Y_test))\n",
    "print('X_train.index',X_train.index)\n",
    "print('Y_train.index',Y_train.index)\n",
    "print('X_test.index',X_test.index)\n",
    "print('Y_test.index',Y_test.index)"
   ]
  },
  {
   "cell_type": "code",
   "execution_count": 6,
   "metadata": {},
   "outputs": [],
   "source": [
    "# Function to return the list of distances of the test records from train records\n",
    "def distNeighbours(X_train,Y_train,X_test,K):\n",
    "    distance=[]\n",
    "    for i in range(len(X_train)):\n",
    "        eDistance=0\n",
    "        for j in range(len(X_train.columns)):   \n",
    "                eDistance+=round(np.sqrt(pow((X_train.iloc[i,j]-X_test[j]),2)),2)\n",
    "        distance.append((eDistance,i,Y_train.iloc[i]))\n",
    "        distance=sorted(distance, key=lambda x: x[0])[0:K]\n",
    "    return distance"
   ]
  },
  {
   "cell_type": "code",
   "execution_count": 7,
   "metadata": {},
   "outputs": [],
   "source": [
    "# Predict the output of the categorical variables based on K nearest neighbours \n",
    "# Output is the most frequent class among K nearest neighbours\n",
    "def predictOutputCategorical(X_train,Y_train,X_test,K):\n",
    "    neighbours=[]\n",
    "    responses=[]\n",
    "    for i in range(len(X_test)):\n",
    "        neighbours.append(distNeighbours(X_train,Y_train,X_test.iloc[i,:],K))\n",
    "    for i in neighbours:\n",
    "        votes={}\n",
    "        for j in i:\n",
    "            if j[-1] in votes.keys():\n",
    "                votes[j[-1]]=votes[j[-1]]+1\n",
    "            else:\n",
    "                votes[j[-1]]=1\n",
    "        responses.append(sorted(votes,key=votes.get,reverse=True)[0])\n",
    "    return responses\n",
    "# Predict the output of the numeric variables based on K nearest neighbours\n",
    "# Output is the mean of the K nearest neighbours\n",
    "def predictOutputNumeric(X_train,Y_train,X_test,K):\n",
    "    neighbours=[]\n",
    "    responses=[]\n",
    "    for i in range(len(X_test)):\n",
    "        neighbours.append(distNeighbours(X_train,Y_train,X_test.iloc[i,:],K))\n",
    "    for i in neighbours:\n",
    "        mean=0\n",
    "        for j in i:\n",
    "            mean+=j[-1]\n",
    "        mean=mean/K\n",
    "        responses.append(mean)\n",
    "    return responses\n",
    "# Accuarcy of the categorical predictions \n",
    "def getAccuracyCategorical(actual,predicted):\n",
    "    correct=0\n",
    "    for i in range(len(predicted)):\n",
    "        if predicted[i]==actual[i]:\n",
    "            correct+=1\n",
    "    return round((correct/len(actual))*100,2)\n",
    "# Accuarcy of the numerical predictions\n",
    "def getAccuracyNumeric(actual,predicted):\n",
    "    error=0\n",
    "    for i in range(len(predicted)):\n",
    "        error+=pow((actual[i]-predicted[i]),2)\n",
    "    error=error/len(predicted)-1\n",
    "    return 100-error\n"
   ]
  },
  {
   "cell_type": "markdown",
   "metadata": {},
   "source": [
    "Accuracy"
   ]
  },
  {
   "cell_type": "code",
   "execution_count": 8,
   "metadata": {},
   "outputs": [
    {
     "data": {
      "text/plain": [
       "95.56"
      ]
     },
     "execution_count": 8,
     "metadata": {},
     "output_type": "execute_result"
    }
   ],
   "source": [
    "#Predict species\n",
    "output=predictOutputCategorical(X_train,Y_train,X_test,3)\n",
    "getAccuracyCategorical(Y_test,output)"
   ]
  },
  {
   "cell_type": "code",
   "execution_count": 9,
   "metadata": {},
   "outputs": [
    {
     "data": {
      "text/plain": [
       "KNeighborsClassifier(algorithm='auto', leaf_size=30, metric='minkowski',\n",
       "           metric_params=None, n_jobs=None, n_neighbors=3, p=2,\n",
       "           weights='uniform')"
      ]
     },
     "execution_count": 9,
     "metadata": {},
     "output_type": "execute_result"
    }
   ],
   "source": [
    "# Fit model using in built sklearn function\n",
    "model=KNeighborsClassifier(n_neighbors=3,p=2,metric='minkowski')\n",
    "model.fit(X_train,Y_train)\n"
   ]
  },
  {
   "cell_type": "code",
   "execution_count": 10,
   "metadata": {},
   "outputs": [
    {
     "name": "stdout",
     "output_type": "stream",
     "text": [
      "Accuracy: 95.56\n"
     ]
    }
   ],
   "source": [
    "#Accuracy of the model\n",
    "print('Accuracy: {:^0.2f}'.format(metrics.accuracy_score(Y_test,model.predict(X_test))*100))"
   ]
  },
  {
   "cell_type": "code",
   "execution_count": 11,
   "metadata": {},
   "outputs": [
    {
     "data": {
      "text/plain": [
       "array([ True,  True,  True,  True,  True,  True,  True,  True,  True,\n",
       "        True,  True,  True,  True,  True,  True,  True,  True,  True,\n",
       "        True,  True,  True,  True,  True,  True,  True,  True,  True,\n",
       "        True,  True,  True,  True,  True,  True,  True,  True,  True,\n",
       "        True,  True,  True,  True,  True,  True,  True,  True,  True])"
      ]
     },
     "execution_count": 11,
     "metadata": {},
     "output_type": "execute_result"
    }
   ],
   "source": [
    "# Check whether the both outputs are same or not\n",
    "# They are same as displayed below\n",
    "output==model.predict(X_test)"
   ]
  },
  {
   "cell_type": "code",
   "execution_count": null,
   "metadata": {},
   "outputs": [],
   "source": []
  },
  {
   "cell_type": "code",
   "execution_count": null,
   "metadata": {},
   "outputs": [],
   "source": []
  }
 ],
 "metadata": {
  "kernelspec": {
   "display_name": "Python 3",
   "language": "python",
   "name": "python3"
  },
  "language_info": {
   "codemirror_mode": {
    "name": "ipython",
    "version": 3
   },
   "file_extension": ".py",
   "mimetype": "text/x-python",
   "name": "python",
   "nbconvert_exporter": "python",
   "pygments_lexer": "ipython3",
   "version": "3.7.3"
  }
 },
 "nbformat": 4,
 "nbformat_minor": 2
}
